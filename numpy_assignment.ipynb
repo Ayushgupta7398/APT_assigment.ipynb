{
 "cells": [
  {
   "cell_type": "markdown",
   "id": "c1689e54",
   "metadata": {},
   "source": [
    "# Assignment 1 - Working with NumPy\n"
   ]
  },
  {
   "cell_type": "code",
   "execution_count": 23,
   "id": "3f6815fd",
   "metadata": {},
   "outputs": [],
   "source": [
    "import numpy as np"
   ]
  },
  {
   "cell_type": "markdown",
   "id": "d7571452",
   "metadata": {},
   "source": [
    "## 1. Create a 1D NumPy Array and Perform Basic Statistics\n",
    "\n",
    "**Step**: We use `np.arange(1, 21)` to create a 1D array containing integers from 1 to 20.  \n",
    "**Purpose**: To practice generating sequences and computing basic statistics.\n",
    "\n",
    "We then perform the following operations:\n",
    "\n",
    "- `np.sum()` → Calculates the total sum of all elements.\n",
    "- `np.mean()` → Computes the average value of the array.\n",
    "- `np.median()` → Returns the middle value of the sorted array.\n",
    "- `np.std()` → Calculates the standard deviation, indicating how spread out the values are.\n",
    "\n",
    "Next, we use `np.where(arr > 10)` to find the **indices of all elements greater than 10**.  \n",
    "This helps us practice conditional filtering and indexing in NumPy.\n"
   ]
  },
  {
   "cell_type": "code",
   "execution_count": 24,
   "id": "314dd13c",
   "metadata": {},
   "outputs": [
    {
     "name": "stdout",
     "output_type": "stream",
     "text": [
      "[ 1  2  3  4  5  6  7  8  9 10 11 12 13 14 15 16 17 18 19 20]\n"
     ]
    }
   ],
   "source": [
    "# 1 Create a 1D NumPy array with integers from 1 to 20\n",
    "arr = np.arange(1, 21)\n",
    "print(arr)"
   ]
  },
  {
   "cell_type": "code",
   "execution_count": 25,
   "id": "61108805",
   "metadata": {},
   "outputs": [
    {
     "name": "stdout",
     "output_type": "stream",
     "text": [
      "Sum: 210\n",
      "Mean: 10.5\n",
      "median 10.5\n",
      "standard deviation 5.766281297335398\n"
     ]
    }
   ],
   "source": [
    "# a. Calculate sum, mean, median, and standard deviation\n",
    "print(\"Sum:\", np.sum(arr))\n",
    "print(\"Mean:\", np.mean(arr))\n",
    "print(\"median\",np.median(arr))\n",
    "print('standard deviation',np.std(arr))\n"
   ]
  },
  {
   "cell_type": "code",
   "execution_count": 26,
   "id": "c09864b3",
   "metadata": {},
   "outputs": [
    {
     "name": "stdout",
     "output_type": "stream",
     "text": [
      "greatr elements than 10 are: [10 11 12 13 14 15 16 17 18 19]\n"
     ]
    }
   ],
   "source": [
    "#b. Find the indices of elements greater than 10 in the array. \n",
    "greater_elemens = np.where(arr>10)[0]\n",
    "print('greatr elements than 10 are:',greater_elemens)"
   ]
  },
  {
   "cell_type": "markdown",
   "id": "d1ce181d",
   "metadata": {},
   "source": [
    "## 2. Create and Analyze a 2D NumPy Array\n",
    "\n",
    "**Step**: We create a 2D array with values from 1 to 16 using `np.arange(1, 17)` and reshape it into a 4x4 matrix using `.reshape(4, 4)`.\n",
    "\n",
    "**Purpose**: This helps us understand how to create and reshape arrays into multiple dimensions.\n",
    "\n",
    "We then perform the following tasks:\n",
    "\n",
    "- **Print the original array** for reference.\n",
    "- **Transpose** the array using `.T`, which switches rows and columns.  \n",
    "- **Row-wise sum** using `arr.sum(axis=1)` to add elements across each row.\n",
    "- **Column-wise sum** using `arr.sum(axis=0)` to add elements down each column.\n",
    "\n",
    "These operations show how NumPy handles axis-based calculations in 2D structures.\n"
   ]
  },
  {
   "cell_type": "code",
   "execution_count": 27,
   "id": "94207a59",
   "metadata": {},
   "outputs": [],
   "source": [
    "#2. Create a 2D NumPy array of shape 4 X 4 with numbers ranging from 1 to 16.  \n",
    "arr_2d = np.arange(1,17).reshape(4,4)\n"
   ]
  },
  {
   "cell_type": "code",
   "execution_count": 28,
   "id": "45578d0e",
   "metadata": {},
   "outputs": [
    {
     "name": "stdout",
     "output_type": "stream",
     "text": [
      "[[ 1  2  3  4]\n",
      " [ 5  6  7  8]\n",
      " [ 9 10 11 12]\n",
      " [13 14 15 16]]\n"
     ]
    }
   ],
   "source": [
    "# a. Print the array. \n",
    "print(arr_2d)"
   ]
  },
  {
   "cell_type": "code",
   "execution_count": 29,
   "id": "5c9b98b3",
   "metadata": {},
   "outputs": [
    {
     "name": "stdout",
     "output_type": "stream",
     "text": [
      "[[ 1  5  9 13]\n",
      " [ 2  6 10 14]\n",
      " [ 3  7 11 15]\n",
      " [ 4  8 12 16]]\n"
     ]
    }
   ],
   "source": [
    "#  b. Find the transpose of the array.  \n",
    "transpose = arr_2d.T\n",
    "print(transpose)"
   ]
  },
  {
   "cell_type": "code",
   "execution_count": 30,
   "id": "b40df30d",
   "metadata": {},
   "outputs": [
    {
     "name": "stdout",
     "output_type": "stream",
     "text": [
      "row-wise  sum: [28 32 36 40]\n",
      "column-wise sum: [10 26 42 58]\n"
     ]
    }
   ],
   "source": [
    "# c. Calculate the row-wise and column-wise sums of the array.  \n",
    "sum_of_rows =arr_2d.sum(axis=0)\n",
    "print('row-wise  sum:',sum_of_rows)\n",
    "\n",
    "sum_of_column =arr_2d.sum(axis=1)\n",
    "print('column-wise sum:',sum_of_column)"
   ]
  },
  {
   "cell_type": "markdown",
   "id": "8cb5da1d",
   "metadata": {},
   "source": [
    "## 3. Element-wise and Matrix Operations on Random 3×3 Arrays\n",
    "\n",
    "**Step**: We generate two 3x3 arrays filled with random integers between 1 and 20 using `np.random.randint(1, 21, size=(3, 3))`.\n",
    "\n",
    "**Purpose**: To practice generating random matrices and applying operations on them.\n",
    "\n",
    "We perform:\n",
    "\n",
    "### a. Element-wise Operations:\n",
    "- `arr1 + arr2`: Adds each corresponding element.\n",
    "- `arr1 - arr2`: Subtracts each element in `arr2` from `arr1`.\n",
    "- `arr1 * arr2`: Multiplies each pair of corresponding elements.\n",
    "\n",
    "These operations demonstrate how broadcasting and element-wise math works in NumPy.\n",
    "\n",
    "### b. Dot Product:\n",
    "- `np.dot(arr1, arr2)` computes the **matrix product** (dot product) between the two arrays.  \n",
    "This operation is essential in linear algebra, especially in machine learning and scientific computing.\n"
   ]
  },
  {
   "cell_type": "code",
   "execution_count": 31,
   "id": "d7064c24",
   "metadata": {},
   "outputs": [
    {
     "name": "stdout",
     "output_type": "stream",
     "text": [
      "Array 1:\n",
      " [[16  1 15]\n",
      " [ 2  9 11]\n",
      " [16  8 10]]\n",
      "Array 2:\n",
      " [[ 3 15 15]\n",
      " [16 10  2]\n",
      " [18 17 19]]\n"
     ]
    }
   ],
   "source": [
    "#3. Create two 3 X 3 arrays filled with random integers between 1 and 20.  \n",
    "arr1 =  np.random.randint(1,20,size=(3,3))\n",
    "arr2 =  np.random.randint(1,20,size=(3,3))\n",
    "print('Array 1:\\n',arr1)\n",
    "print('Array 2:\\n',arr2)"
   ]
  },
  {
   "cell_type": "code",
   "execution_count": 32,
   "id": "4ccc4525",
   "metadata": {},
   "outputs": [
    {
     "name": "stdout",
     "output_type": "stream",
     "text": [
      "Element wise addition:\n",
      "  [[19 16 30]\n",
      " [18 19 13]\n",
      " [34 25 29]]\n",
      "Element wise subtraction:\n",
      "  [[ 13 -14   0]\n",
      " [-14  -1   9]\n",
      " [ -2  -9  -9]]\n",
      "Element wise multiplication:\n",
      "  [[ 48  15 225]\n",
      " [ 32  90  22]\n",
      " [288 136 190]]\n"
     ]
    }
   ],
   "source": [
    "#a. Perform element-wise addition, subtraction, and multiplication.\n",
    "\n",
    "print('Element wise addition:\\n ',arr1 +arr2)\n",
    "print('Element wise subtraction:\\n ',arr1 -arr2)\n",
    "print('Element wise multiplication:\\n ',arr1 * arr2)\n"
   ]
  },
  {
   "cell_type": "code",
   "execution_count": 33,
   "id": "33854ba0",
   "metadata": {},
   "outputs": [
    {
     "name": "stdout",
     "output_type": "stream",
     "text": [
      "dot product are:\n",
      " [[334 505 527]\n",
      " [348 307 257]\n",
      " [356 490 446]]\n"
     ]
    }
   ],
   "source": [
    "#b. Compute the dot product of the two arrays.\n",
    "print(\"dot product are:\\n\",np.dot(arr1,arr2))"
   ]
  },
  {
   "cell_type": "markdown",
   "id": "b9aeb040",
   "metadata": {},
   "source": [
    "## 4. Reshape and Slice a 2D Array\n",
    "\n",
    "**Step**: Create a 1D array with 12 elements using `np.arange(1, 13)` and reshape it into a 3x4 array using `.reshape(3, 4)`.\n",
    "\n",
    "**Purpose**: To practice reshaping arrays and using slicing to extract specific elements.\n",
    "\n",
    "Then we perform slicing:\n",
    "\n",
    "- `[:2, -2:]` → selects the **first two rows** and the **last two columns** of the reshaped array.\n",
    "\n",
    "This demonstrates how slicing in NumPy works across multiple dimensions using row and column indexing.\n"
   ]
  },
  {
   "cell_type": "code",
   "execution_count": 34,
   "id": "57f365cb",
   "metadata": {},
   "outputs": [
    {
     "name": "stdout",
     "output_type": "stream",
     "text": [
      "The array is \n",
      " [ 1  2  3  4  5  6  7  8  9 10 11 12]\n",
      "Reshaped Aray into 3 X 4 \n",
      " [[ 1  2  3  4]\n",
      " [ 5  6  7  8]\n",
      " [ 9 10 11 12]]\n",
      "\n",
      "Sliced (first 2 rows, last 2 columns):\n",
      " [[1 2]\n",
      " [5 6]]\n"
     ]
    }
   ],
   "source": [
    "#4. Reshape a 1D array of size 12 into a 3 X 4 2D array and slice the first two rows\n",
    "#  and last two columns.  \n",
    "new_arr =np.arange(1,13)\n",
    "\n",
    "reshaped_arr = new_arr.reshape(3,4)\n",
    "\n",
    "sliced =  reshaped_arr[:2,:-2]\n",
    "print('The array is \\n',new_arr)\n",
    "print('Reshaped Aray into 3 X 4 \\n',reshaped_arr) \n",
    "print(\"\\nSliced (first 2 rows, last 2 columns):\\n\", sliced)"
   ]
  }
 ],
 "metadata": {
  "kernelspec": {
   "display_name": "Python 3",
   "language": "python",
   "name": "python3"
  },
  "language_info": {
   "codemirror_mode": {
    "name": "ipython",
    "version": 3
   },
   "file_extension": ".py",
   "mimetype": "text/x-python",
   "name": "python",
   "nbconvert_exporter": "python",
   "pygments_lexer": "ipython3",
   "version": "3.13.1"
  }
 },
 "nbformat": 4,
 "nbformat_minor": 5
}
